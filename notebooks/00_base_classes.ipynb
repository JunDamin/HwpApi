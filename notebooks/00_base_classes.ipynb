{
 "cells": [
  {
   "cell_type": "code",
   "execution_count": 1,
   "id": "95c30c7f-433b-4c6b-81ef-b6f14573f2ae",
   "metadata": {
    "tags": []
   },
   "outputs": [],
   "source": [
    "from win32com import client as wc\n",
    "from pathlib import Path\n",
    "from contextlib import contextmanager\n",
    "import json"
   ]
  },
  {
   "cell_type": "code",
   "execution_count": 6,
   "id": "41b6cda5-b794-44ab-a71c-56b62ce2ed2c",
   "metadata": {
    "tags": []
   },
   "outputs": [],
   "source": [
    "with open(\"action_parameterset.json\", \"r\", encoding='utf-8') as f:\n",
    "    action_keys = json.load(f)"
   ]
  },
  {
   "cell_type": "code",
   "execution_count": 2,
   "id": "22c7d290-1c8a-4541-8015-7e71b522d2c2",
   "metadata": {
    "tags": []
   },
   "outputs": [],
   "source": [
    "def get_absolute_path(path):\n",
    "    name = Path(path)\n",
    "    return name.absolute().as_posix()"
   ]
  },
  {
   "cell_type": "code",
   "execution_count": 3,
   "id": "dd59e0e7-ffa1-47b8-813d-563e21fb87b1",
   "metadata": {
    "tags": []
   },
   "outputs": [],
   "source": [
    "class HwpApi:\n",
    "    def __init__(self, api=None):\n",
    "        if not api:\n",
    "            \n",
    "            api = wc.gencache.EnsureDispatch(\"HWPFrame.HwpObject\")\n",
    "        self.api = api\n",
    "    \n",
    "    def set_visible(self, is_visible=True, window_i=0):\n",
    "        self.api.XHwpWindows.Item(window_i).Visible = is_visible\n",
    "    \n",
    "    \n",
    "    def get_filepath(self):\n",
    "        doc = self.api.XHwpDocuments.Active_XHwpDocument\n",
    "        return doc.FullName\n",
    "    \n",
    "    def open(self, path:str):\n",
    "        name = get_absolute_path(path)\n",
    "        self.api.Open(name)\n",
    "        return name\n",
    "    \n",
    "    def save(self, path=None, save_format=\"HWP\"):\n",
    "        if not path:\n",
    "            self.api.Save()\n",
    "            return self.get_filepath()\n",
    "        name = get_absolute_path(path)\n",
    "        self.api.SaveAs(name, save_format)\n",
    "        return name\n",
    "    \n",
    "    def close(self):\n",
    "        self.api.Run(\"Close\")\n",
    "        \n",
    "    def create_action(self, action_key:str):\n",
    "        \"\"\"\"\"\"\n",
    "        return Action(self, action_key)\n",
    "    \n",
    "    def create_parameterset(self, action_key:str):\n",
    "        \"\"\"it is not working and I do not know why. I guess __getattr__method is not work as I expect.\"\"\"\n",
    "        return ParameterSet(self, action_key)"
   ]
  },
  {
   "cell_type": "code",
   "execution_count": 4,
   "id": "e170298f-1b4c-4b42-a699-0031470b19dc",
   "metadata": {
    "tags": []
   },
   "outputs": [],
   "source": [
    "# we can wrap object and autocompliation and I think it is a problem.\n",
    "\n",
    "class ParameterSet(object):\n",
    "    \n",
    "    def __init__(self, hwpapi, action_key):\n",
    "        pset_key = action_keys.get(action_key, None)\n",
    "        \n",
    "        self._pset_key = pset_key\n",
    "        self.api = hwpapi.api\n",
    "        \n",
    "        pset = getattr(self.api.HParameterSet, f\"H{pset_key}\")\n",
    "        self.api.HAction.GetDefault(action_key, pset.HSet)\n",
    "        self.methods = []\n",
    "        self._pset = pset\n",
    "        \n",
    "    def __getattr__(self, attr):\n",
    "        if attr in self.__dict__:\n",
    "            return getattr(self, attr)\n",
    "        return getattr(self._pset, attr)\n",
    "    \n",
    "    def __dir__(self):\n",
    "        return self.methods + dir(self._pset)\n",
    "    "
   ]
  },
  {
   "cell_type": "code",
   "execution_count": 5,
   "id": "b935757f-68e0-47de-8a47-cabb4e652357",
   "metadata": {
    "tags": []
   },
   "outputs": [],
   "source": [
    "class Action:\n",
    "    \n",
    "    def __init__(self, hwpapi:HwpApi, action_key:str):\n",
    "        \n",
    "        self.action_key = action_key\n",
    "        self.hwpapi = hwpapi\n",
    "        \n",
    "        # create action and set\n",
    "        self.act = hwpapi.api.CreateAction(action_key)\n",
    "        self._pset = self.act.CreateSet()\n",
    "        self.act.GetDefault(self._pset)\n",
    "              \n",
    "    \n",
    "    def apply_pset(self, pset:ParameterSet):\n",
    "        \n",
    "        self._pset.Merge(pset.HSet)\n",
    "        return self\n",
    "    \n",
    "    def set_parameter(self, key:str, value):\n",
    "        \n",
    "        self._pset.SetItem(key, value)\n",
    "        return self\n",
    "    \n",
    "    def get_parameter(self, key:str):\n",
    "        \n",
    "        return self._pset.Item(key)\n",
    "    \n",
    "    def run(self):\n",
    "        self.act.Execute(self._pset)\n",
    "        return self\n",
    "    \n",
    "    def create_pset(self):\n",
    "        pset_key = action_keys.get(self.action_key, None)\n",
    "        self._pset_key = pset_key\n",
    "        pset = getattr(self.hwpapi.api.HParameterSet, f\"H{pset_key}\")\n",
    "        self.hwpapi.api.HAction.GetDefault(self.action_key, pset.HSet)\n",
    "        return pset\n",
    "        \n",
    "    @contextmanager\n",
    "    def pset(self):\n",
    "        parameterset = self.create_pset()\n",
    "        yield parameterset\n",
    "        self.apply_pset(parameterset)\n",
    "    \n"
   ]
  },
  {
   "cell_type": "code",
   "execution_count": 7,
   "id": "a6d01240-6868-4383-953c-07fbe1dcf704",
   "metadata": {
    "tags": []
   },
   "outputs": [],
   "source": [
    "hwpapi = HwpApi()\n",
    "hwpapi.set_visible()"
   ]
  },
  {
   "cell_type": "code",
   "execution_count": 44,
   "id": "676334a3-3fde-4ced-8ef3-7477e0e0fbfd",
   "metadata": {
    "tags": []
   },
   "outputs": [],
   "source": [
    "act = hwpapi.create_action(\"InsertText\")"
   ]
  },
  {
   "cell_type": "code",
   "execution_count": 9,
   "id": "948aa7d7-dc28-4140-b458-5ff37a1019cd",
   "metadata": {
    "tags": []
   },
   "outputs": [],
   "source": [
    "pset = act.create_pset()"
   ]
  },
  {
   "cell_type": "code",
   "execution_count": 10,
   "id": "2bbb73b5-407f-498f-8095-c46cf7683cb9",
   "metadata": {},
   "outputs": [],
   "source": [
    "pset2 = hwpapi.api.HParameterSet.HInsertText"
   ]
  },
  {
   "cell_type": "code",
   "execution_count": 11,
   "id": "162f00b5-8b8d-43fd-b38f-1479dcfbde55",
   "metadata": {},
   "outputs": [],
   "source": [
    "pset3 = hwpapi.create_parameterset(\"InsertText\")"
   ]
  },
  {
   "cell_type": "code",
   "execution_count": 12,
   "id": "721073e9-eab9-453f-8864-62bc2cb7e43a",
   "metadata": {
    "tags": []
   },
   "outputs": [],
   "source": [
    "pset.Text = \"test1\""
   ]
  },
  {
   "cell_type": "code",
   "execution_count": 13,
   "id": "91d4719b-4411-4e1d-a203-eae1a711f34a",
   "metadata": {
    "tags": []
   },
   "outputs": [],
   "source": [
    "pset2.Text = \"test2\""
   ]
  },
  {
   "cell_type": "code",
   "execution_count": 14,
   "id": "562e935f-dd7f-4b2d-830e-ed366a354b18",
   "metadata": {},
   "outputs": [],
   "source": [
    "pset3.Text = \"test3\""
   ]
  },
  {
   "cell_type": "code",
   "execution_count": 15,
   "id": "374206e5-62ef-4046-a90f-4bba0b8f73cf",
   "metadata": {
    "tags": []
   },
   "outputs": [],
   "source": [
    "for p in [pset, pset2, pset3]:\n",
    "    act.apply_pset(p).run()"
   ]
  },
  {
   "cell_type": "code",
   "execution_count": 46,
   "id": "d7e86c97-ca3c-4a84-9024-88e2eb624062",
   "metadata": {},
   "outputs": [
    {
     "data": {
      "text/plain": [
       "<__main__.Action at 0x1bca3ec3460>"
      ]
     },
     "execution_count": 46,
     "metadata": {},
     "output_type": "execute_result"
    }
   ],
   "source": [
    "with act.pset() as p:\n",
    "    p.Text=\"TextTest\"\n",
    "act.run()"
   ]
  },
  {
   "cell_type": "markdown",
   "id": "faf2e5c3-e194-4519-8a84-1f07c6fb5c82",
   "metadata": {},
   "source": [
    "## ParameterSet Key를 Action Table에서 얻어오기"
   ]
  },
  {
   "cell_type": "code",
   "execution_count": 17,
   "id": "f8114da0-cce5-44a4-b81e-48267e3b3341",
   "metadata": {
    "tags": []
   },
   "outputs": [],
   "source": [
    "import pandas as pd"
   ]
  },
  {
   "cell_type": "code",
   "execution_count": 18,
   "id": "22ea00b6-bc33-4d13-b4fc-5c39bb3c614c",
   "metadata": {
    "tags": []
   },
   "outputs": [],
   "source": [
    "tables = pd.read_html(r\"C:\\Users\\freed\\Documents\\python_projects\\HwpApi\\action_table\\Action Table_modified.htm\")"
   ]
  },
  {
   "cell_type": "code",
   "execution_count": 19,
   "id": "ebb90fa1-a672-494d-a4bf-a18df1f43b6b",
   "metadata": {
    "tags": []
   },
   "outputs": [
    {
     "name": "stderr",
     "output_type": "stream",
     "text": [
      "C:\\Users\\freed\\AppData\\Local\\Temp\\ipykernel_316\\2958487354.py:2: FutureWarning: The default value of regex will change from True to False in a future version.\n",
      "  action_table[\"ParameterSet\"] = action_table[\"ParameterSet ID\"].str.replace(\"[\\+\\*\\-]\", \"\")\n"
     ]
    },
    {
     "data": {
      "text/html": [
       "<div>\n",
       "<style scoped>\n",
       "    .dataframe tbody tr th:only-of-type {\n",
       "        vertical-align: middle;\n",
       "    }\n",
       "\n",
       "    .dataframe tbody tr th {\n",
       "        vertical-align: top;\n",
       "    }\n",
       "\n",
       "    .dataframe thead th {\n",
       "        text-align: right;\n",
       "    }\n",
       "</style>\n",
       "<table border=\"1\" class=\"dataframe\">\n",
       "  <thead>\n",
       "    <tr style=\"text-align: right;\">\n",
       "      <th></th>\n",
       "      <th>Action ID</th>\n",
       "      <th>ParameterSet ID</th>\n",
       "      <th>Description</th>\n",
       "      <th>비고</th>\n",
       "      <th>ParameterSet</th>\n",
       "    </tr>\n",
       "  </thead>\n",
       "  <tbody>\n",
       "    <tr>\n",
       "      <th>0</th>\n",
       "      <td>AddHanjaWord</td>\n",
       "      <td>+</td>\n",
       "      <td>한자단어 등록</td>\n",
       "      <td>NaN</td>\n",
       "      <td></td>\n",
       "    </tr>\n",
       "    <tr>\n",
       "      <th>1</th>\n",
       "      <td>AllReplace</td>\n",
       "      <td>FindReplace*</td>\n",
       "      <td>모두 바꾸기</td>\n",
       "      <td>NaN</td>\n",
       "      <td>FindReplace</td>\n",
       "    </tr>\n",
       "    <tr>\n",
       "      <th>2</th>\n",
       "      <td>AQcommandMerge</td>\n",
       "      <td>UserQCommandFile*</td>\n",
       "      <td>입력 자동 명령 파일 저장/로드 \\t(한글메뉴의 [도구-빠른 교정-빠른 교정내용]에...</td>\n",
       "      <td>한글2007에 새로 추가</td>\n",
       "      <td>UserQCommandFile</td>\n",
       "    </tr>\n",
       "    <tr>\n",
       "      <th>3</th>\n",
       "      <td>AutoChangeHangul</td>\n",
       "      <td>-</td>\n",
       "      <td>낱자모 우선</td>\n",
       "      <td>NaN</td>\n",
       "      <td></td>\n",
       "    </tr>\n",
       "    <tr>\n",
       "      <th>4</th>\n",
       "      <td>AutoChangeRun</td>\n",
       "      <td>-</td>\n",
       "      <td>동작</td>\n",
       "      <td>NaN</td>\n",
       "      <td></td>\n",
       "    </tr>\n",
       "    <tr>\n",
       "      <th>...</th>\n",
       "      <td>...</td>\n",
       "      <td>...</td>\n",
       "      <td>...</td>\n",
       "      <td>...</td>\n",
       "      <td>...</td>\n",
       "    </tr>\n",
       "    <tr>\n",
       "      <th>748</th>\n",
       "      <td>VoiceCommand</td>\n",
       "      <td>+</td>\n",
       "      <td>음성 명령 동작</td>\n",
       "      <td>NaN</td>\n",
       "      <td></td>\n",
       "    </tr>\n",
       "    <tr>\n",
       "      <th>749</th>\n",
       "      <td>VoiceCommand Config</td>\n",
       "      <td>-</td>\n",
       "      <td>음성 명령 설정</td>\n",
       "      <td>NaN</td>\n",
       "      <td></td>\n",
       "    </tr>\n",
       "    <tr>\n",
       "      <th>750</th>\n",
       "      <td>VoiceCommand Resume</td>\n",
       "      <td>-</td>\n",
       "      <td>음성 명령 레코딩 시작</td>\n",
       "      <td>NaN</td>\n",
       "      <td></td>\n",
       "    </tr>\n",
       "    <tr>\n",
       "      <th>751</th>\n",
       "      <td>VoiceCommand Stop</td>\n",
       "      <td>-</td>\n",
       "      <td>음성 명령 레코딩 중지</td>\n",
       "      <td>NaN</td>\n",
       "      <td></td>\n",
       "    </tr>\n",
       "    <tr>\n",
       "      <th>752</th>\n",
       "      <td>VoiceCommand View</td>\n",
       "      <td>+</td>\n",
       "      <td>음성 명령창 보이기</td>\n",
       "      <td>NaN</td>\n",
       "      <td></td>\n",
       "    </tr>\n",
       "  </tbody>\n",
       "</table>\n",
       "<p>733 rows × 5 columns</p>\n",
       "</div>"
      ],
      "text/plain": [
       "0              Action ID    ParameterSet ID  \\\n",
       "0           AddHanjaWord                  +   \n",
       "1             AllReplace       FindReplace*   \n",
       "2         AQcommandMerge  UserQCommandFile*   \n",
       "3       AutoChangeHangul                  -   \n",
       "4          AutoChangeRun                  -   \n",
       "..                   ...                ...   \n",
       "748         VoiceCommand                  +   \n",
       "749  VoiceCommand Config                  -   \n",
       "750  VoiceCommand Resume                  -   \n",
       "751    VoiceCommand Stop                  -   \n",
       "752    VoiceCommand View                  +   \n",
       "\n",
       "0                                          Description             비고  \\\n",
       "0                                              한자단어 등록            NaN   \n",
       "1                                               모두 바꾸기            NaN   \n",
       "2    입력 자동 명령 파일 저장/로드 \\t(한글메뉴의 [도구-빠른 교정-빠른 교정내용]에...  한글2007에 새로 추가   \n",
       "3                                               낱자모 우선            NaN   \n",
       "4                                                   동작            NaN   \n",
       "..                                                 ...            ...   \n",
       "748                                           음성 명령 동작            NaN   \n",
       "749                                           음성 명령 설정            NaN   \n",
       "750                                       음성 명령 레코딩 시작            NaN   \n",
       "751                                       음성 명령 레코딩 중지            NaN   \n",
       "752                                         음성 명령창 보이기            NaN   \n",
       "\n",
       "0        ParameterSet  \n",
       "0                      \n",
       "1         FindReplace  \n",
       "2    UserQCommandFile  \n",
       "3                      \n",
       "4                      \n",
       "..                ...  \n",
       "748                    \n",
       "749                    \n",
       "750                    \n",
       "751                    \n",
       "752                    \n",
       "\n",
       "[733 rows x 5 columns]"
      ]
     },
     "execution_count": 19,
     "metadata": {},
     "output_type": "execute_result"
    }
   ],
   "source": [
    "action_table = pd.DataFrame(tables[1].loc[1:].values, columns=tables[1].loc[0]).query(\"'Action ID' != `Action ID`\")\n",
    "action_table[\"ParameterSet\"] = action_table[\"ParameterSet ID\"].str.replace(\"[\\+\\*\\-]\", \"\")\n",
    "action_table"
   ]
  },
  {
   "cell_type": "code",
   "execution_count": 20,
   "id": "00802e60-7e77-4ec0-ad62-1302e241203b",
   "metadata": {
    "tags": []
   },
   "outputs": [],
   "source": [
    "pset_keys = action_table[[\"Action ID\", \"ParameterSet\"]].set_index(\"Action ID\")[\"ParameterSet\"].to_dict()"
   ]
  },
  {
   "cell_type": "code",
   "execution_count": 21,
   "id": "aa11b160-c89f-4b1b-bca9-852daeb95115",
   "metadata": {
    "tags": []
   },
   "outputs": [],
   "source": [
    "with open(\"action_parameterset.json\", \"w\", encoding='utf-8') as f:\n",
    "    json.dump(pset_keys, f)"
   ]
  }
 ],
 "metadata": {
  "kernelspec": {
   "display_name": "Python 3 (ipykernel)",
   "language": "python",
   "name": "python3"
  },
  "language_info": {
   "codemirror_mode": {
    "name": "ipython",
    "version": 3
   },
   "file_extension": ".py",
   "mimetype": "text/x-python",
   "name": "python",
   "nbconvert_exporter": "python",
   "pygments_lexer": "ipython3",
   "version": "3.9.15"
  }
 },
 "nbformat": 4,
 "nbformat_minor": 5
}
