{
 "cells": [
  {
   "cell_type": "code",
   "execution_count": 25,
   "id": "95c30c7f-433b-4c6b-81ef-b6f14573f2ae",
   "metadata": {
    "tags": []
   },
   "outputs": [],
   "source": [
    "#| export\n",
    "from win32com import client as wc\n",
    "from pathlib import Path\n",
    "from contextlib import contextmanager\n",
    "import json"
   ]
  },
  {
   "cell_type": "code",
   "execution_count": 26,
   "id": "41b6cda5-b794-44ab-a71c-56b62ce2ed2c",
   "metadata": {
    "tags": []
   },
   "outputs": [],
   "source": [
    "#| export\n",
    "with open(\"action_parameterset.json\", \"r\", encoding='utf-8') as f:\n",
    "    action_info = json.load(f)"
   ]
  },
  {
   "cell_type": "code",
   "execution_count": 27,
   "id": "22c7d290-1c8a-4541-8015-7e71b522d2c2",
   "metadata": {
    "tags": []
   },
   "outputs": [],
   "source": [
    "#| export\n",
    "def get_absolute_path(path):\n",
    "    name = Path(path)\n",
    "    return name.absolute().as_posix()"
   ]
  },
  {
   "cell_type": "code",
   "execution_count": 28,
   "id": "57ea633c-2d62-4d5c-aa4c-b196ffed14c1",
   "metadata": {
    "tags": []
   },
   "outputs": [],
   "source": [
    "#| export\n",
    "class _Actions:\n",
    "    def __init__(self, HwpApi):\n",
    "       self._HwpApi = HwpApi\n",
    "    \n",
    "    def __getattr__(self, action_key):\n",
    "        return self._HwpApi.create_action(action_key)\n",
    "    \n",
    "    def __dir__(self):\n",
    "        return [key for key in action_info.keys()]"
   ]
  },
  {
   "cell_type": "code",
   "execution_count": 29,
   "id": "dd59e0e7-ffa1-47b8-813d-563e21fb87b1",
   "metadata": {
    "tags": []
   },
   "outputs": [],
   "source": [
    "#| export\n",
    "class HwpApi:\n",
    "    def __init__(self, api=None):\n",
    "        if not api:        \n",
    "            api = wc.gencache.EnsureDispatch(\"HWPFrame.HwpObject\")\n",
    "        self.api = api\n",
    "        self.actions = _Actions(self)\n",
    "        \n",
    "                \n",
    "    def set_visible(self, is_visible=True, window_i=0):\n",
    "        self.api.XHwpWindows.Item(window_i).Visible = is_visible\n",
    "    \n",
    "    \n",
    "    def get_filepath(self):\n",
    "        doc = self.api.XHwpDocuments.Active_XHwpDocument\n",
    "        return doc.FullName\n",
    "    \n",
    "    def open(self, path:str):\n",
    "        name = get_absolute_path(path)\n",
    "        self.api.Open(name)\n",
    "        return name\n",
    "    \n",
    "    def save(self, path=None, save_format=\"HWP\"):\n",
    "        if not path:\n",
    "            self.api.Save()\n",
    "            return self.get_filepath()\n",
    "        name = get_absolute_path(path)\n",
    "        self.api.SaveAs(name, save_format)\n",
    "        return name\n",
    "    \n",
    "    def close(self):\n",
    "        self.api.Run(\"Close\")\n",
    "        \n",
    "    def create_action(self, action_key:str):\n",
    "        \"\"\"\"\"\"\n",
    "        return _Action(self, action_key)\n",
    "    \n",
    "    def create_parameterset(self, action_key:str):\n",
    "        \"\"\"get parameterset of certain action\"\"\"\n",
    "        pset_key, description = action_info.get(action_key, None)\n",
    "        if not pset_key:\n",
    "            return None\n",
    "        return getattr(self.api.HParameterSet, f\"H{pset_key}\")\n",
    "    "
   ]
  },
  {
   "cell_type": "code",
   "execution_count": 30,
   "id": "b935757f-68e0-47de-8a47-cabb4e652357",
   "metadata": {
    "tags": []
   },
   "outputs": [],
   "source": [
    "#| export\n",
    "class _Action:\n",
    "    \n",
    "    def __init__(self, hwpapi:HwpApi, action_key:str):\n",
    "        \n",
    "        pset_key, description = action_info.get(action_key, None)\n",
    "        \n",
    "        self.action_key = action_key\n",
    "        self.pset_key = pset_key\n",
    "        self.description = description\n",
    "        self.hwpapi = hwpapi\n",
    "        \n",
    "        # create action and set\n",
    "        self.act = hwpapi.api.CreateAction(action_key)\n",
    "        self._pset = self.act.CreateSet()\n",
    "        self.act.GetDefault(self._pset)\n",
    "              \n",
    "    def __str__(self): return f\"<Action {self.action_key}: {self.description}>\"\n",
    "\n",
    "    __repr__ = __str__\n",
    "    \n",
    "    def apply_pset(self, pset):\n",
    "        \n",
    "        self._pset.Merge(pset.HSet)\n",
    "        return self\n",
    "    \n",
    "    def set_parameter(self, key:str, value):\n",
    "        \n",
    "        self._pset.SetItem(key, value)\n",
    "        return self\n",
    "    \n",
    "    def get_parameter(self, key:str):\n",
    "        \n",
    "        return self._pset.Item(key)\n",
    "    \n",
    "    def run(self):\n",
    "        self.act.Execute(self._pset)\n",
    "        return self\n",
    "    \n",
    "    def create_pset(self):\n",
    "        if not self.pset_key:\n",
    "            return None\n",
    "        pset = getattr(self.hwpapi.api.HParameterSet, f\"H{self.pset_key}\")\n",
    "        self.hwpapi.api.HAction.GetDefault(self.action_key, pset.HSet)\n",
    "        return pset\n",
    "        \n",
    "    @contextmanager\n",
    "    def pset(self):\n",
    "        parameterset = self.create_pset()\n",
    "        yield parameterset\n",
    "        self.apply_pset(parameterset)\n",
    "    \n"
   ]
  },
  {
   "cell_type": "code",
   "execution_count": 7,
   "id": "a6d01240-6868-4383-953c-07fbe1dcf704",
   "metadata": {
    "tags": []
   },
   "outputs": [],
   "source": [
    "hwpapi = HwpApi()\n",
    "hwpapi.set_visible()"
   ]
  },
  {
   "cell_type": "code",
   "execution_count": 8,
   "id": "9b1d4c25-edeb-41a8-8908-dda49ce1dbac",
   "metadata": {
    "tags": []
   },
   "outputs": [
    {
     "data": {
      "text/plain": [
       "<Action Comment: 숨은 설명>"
      ]
     },
     "execution_count": 8,
     "metadata": {},
     "output_type": "execute_result"
    }
   ],
   "source": [
    "hwpapi.actions.Comment"
   ]
  },
  {
   "cell_type": "code",
   "execution_count": 9,
   "id": "676334a3-3fde-4ced-8ef3-7477e0e0fbfd",
   "metadata": {
    "tags": []
   },
   "outputs": [],
   "source": [
    "act = hwpapi.create_action(\"InsertText\")"
   ]
  },
  {
   "cell_type": "code",
   "execution_count": 10,
   "id": "948aa7d7-dc28-4140-b458-5ff37a1019cd",
   "metadata": {
    "tags": []
   },
   "outputs": [],
   "source": [
    "pset = act.create_pset()"
   ]
  },
  {
   "cell_type": "code",
   "execution_count": 11,
   "id": "2bbb73b5-407f-498f-8095-c46cf7683cb9",
   "metadata": {},
   "outputs": [],
   "source": [
    "pset2 = hwpapi.api.HParameterSet.HInsertText"
   ]
  },
  {
   "cell_type": "code",
   "execution_count": 12,
   "id": "162f00b5-8b8d-43fd-b38f-1479dcfbde55",
   "metadata": {},
   "outputs": [],
   "source": [
    "pset3 = hwpapi.create_parameterset(\"InsertText\")"
   ]
  },
  {
   "cell_type": "code",
   "execution_count": 13,
   "id": "721073e9-eab9-453f-8864-62bc2cb7e43a",
   "metadata": {
    "tags": []
   },
   "outputs": [],
   "source": [
    "pset.Text = \"test1\""
   ]
  },
  {
   "cell_type": "code",
   "execution_count": 14,
   "id": "91d4719b-4411-4e1d-a203-eae1a711f34a",
   "metadata": {
    "tags": []
   },
   "outputs": [],
   "source": [
    "pset2.Text = \"test2\""
   ]
  },
  {
   "cell_type": "code",
   "execution_count": 15,
   "id": "562e935f-dd7f-4b2d-830e-ed366a354b18",
   "metadata": {},
   "outputs": [],
   "source": [
    "pset3.Text = \"test3\""
   ]
  },
  {
   "cell_type": "code",
   "execution_count": 16,
   "id": "374206e5-62ef-4046-a90f-4bba0b8f73cf",
   "metadata": {
    "tags": []
   },
   "outputs": [],
   "source": [
    "for p in [pset, pset2, pset3]:\n",
    "    act.apply_pset(p).run()"
   ]
  },
  {
   "cell_type": "code",
   "execution_count": 17,
   "id": "d7e86c97-ca3c-4a84-9024-88e2eb624062",
   "metadata": {},
   "outputs": [
    {
     "data": {
      "text/plain": [
       "<Action InsertText: 텍스트 삽입>"
      ]
     },
     "execution_count": 17,
     "metadata": {},
     "output_type": "execute_result"
    }
   ],
   "source": [
    "with act.pset() as p:\n",
    "    p.Text=\"TextTest\"\n",
    "act.run()"
   ]
  },
  {
   "cell_type": "markdown",
   "id": "faf2e5c3-e194-4519-8a84-1f07c6fb5c82",
   "metadata": {},
   "source": [
    "## ParameterSet Key를 Action Table에서 얻어오기"
   ]
  },
  {
   "cell_type": "code",
   "execution_count": 18,
   "id": "f8114da0-cce5-44a4-b81e-48267e3b3341",
   "metadata": {
    "tags": []
   },
   "outputs": [],
   "source": [
    "import pandas as pd"
   ]
  },
  {
   "cell_type": "code",
   "execution_count": 19,
   "id": "22ea00b6-bc33-4d13-b4fc-5c39bb3c614c",
   "metadata": {
    "tags": []
   },
   "outputs": [],
   "source": [
    "tables = pd.read_html(r\"C:\\Users\\freed\\Documents\\python_projects\\HwpApi\\action_table\\Action Table_modified.htm\")"
   ]
  },
  {
   "cell_type": "code",
   "execution_count": 23,
   "id": "ebb90fa1-a672-494d-a4bf-a18df1f43b6b",
   "metadata": {
    "tags": []
   },
   "outputs": [],
   "source": [
    "action_table = pd.DataFrame(tables[1].loc[1:].values, columns=tables[1].loc[0]).query(\"'Action ID' != `Action ID`\")\n",
    "action_table[\"ParameterSet\"] = action_table[\"ParameterSet ID\"].str.replace(\"[\\+\\*\\-]\", \"\", regex=True)\n",
    "action_table[\"ParameterSet\"] = action_table[\"ParameterSet\"].apply(lambda x: x if x else None)\n",
    "action_table = action_table.loc[~action_table[\"Action ID\"].isin([\"VoiceCommand View\", \"AutoSpellSelect1 ~ 16\",])]"
   ]
  },
  {
   "cell_type": "code",
   "execution_count": 21,
   "id": "00802e60-7e77-4ec0-ad62-1302e241203b",
   "metadata": {
    "tags": []
   },
   "outputs": [],
   "source": [
    "pset_keys = action_table[[\"Action ID\", \"ParameterSet\", \"Description\"]].set_index(\"Action ID\").apply(lambda row: row.values.tolist(), axis=1).to_dict()"
   ]
  },
  {
   "cell_type": "code",
   "execution_count": 22,
   "id": "aa11b160-c89f-4b1b-bca9-852daeb95115",
   "metadata": {
    "tags": []
   },
   "outputs": [],
   "source": [
    "with open(\"action_parameterset.json\", \"w\", encoding='utf-8') as f:\n",
    "    json.dump(pset_keys, f)"
   ]
  }
 ],
 "metadata": {
  "kernelspec": {
   "display_name": "Python 3 (ipykernel)",
   "language": "python",
   "name": "python3"
  },
  "language_info": {
   "codemirror_mode": {
    "name": "ipython",
    "version": 3
   },
   "file_extension": ".py",
   "mimetype": "text/x-python",
   "name": "python",
   "nbconvert_exporter": "python",
   "pygments_lexer": "ipython3",
   "version": "3.9.15"
  }
 },
 "nbformat": 4,
 "nbformat_minor": 5
}
